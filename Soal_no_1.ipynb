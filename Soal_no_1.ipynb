{
 "cells": [
  {
   "cell_type": "code",
   "execution_count": 1,
   "id": "be29b449",
   "metadata": {},
   "outputs": [],
   "source": [
    "import numpy as np\n",
    "import pandas as pd\n",
    "import matplotlib.pyplot as plt"
   ]
  },
  {
   "cell_type": "code",
   "execution_count": 24,
   "id": "5645727b",
   "metadata": {},
   "outputs": [],
   "source": [
    "data = pd.read_csv('E:/sistem-cerdas/dataset_UAS/dataset_soal No_1.csv', delimiter=';')"
   ]
  },
  {
   "cell_type": "code",
   "execution_count": 25,
   "id": "e9b536b4",
   "metadata": {},
   "outputs": [
    {
     "data": {
      "text/html": [
       "<div>\n",
       "<style scoped>\n",
       "    .dataframe tbody tr th:only-of-type {\n",
       "        vertical-align: middle;\n",
       "    }\n",
       "\n",
       "    .dataframe tbody tr th {\n",
       "        vertical-align: top;\n",
       "    }\n",
       "\n",
       "    .dataframe thead th {\n",
       "        text-align: right;\n",
       "    }\n",
       "</style>\n",
       "<table border=\"1\" class=\"dataframe\">\n",
       "  <thead>\n",
       "    <tr style=\"text-align: right;\">\n",
       "      <th></th>\n",
       "      <th>Age</th>\n",
       "      <th>Income</th>\n",
       "      <th>Student</th>\n",
       "      <th>Credit_rating</th>\n",
       "      <th>Class (buy_computer)</th>\n",
       "    </tr>\n",
       "  </thead>\n",
       "  <tbody>\n",
       "    <tr>\n",
       "      <th>0</th>\n",
       "      <td>&lt;= 30</td>\n",
       "      <td>High</td>\n",
       "      <td>No</td>\n",
       "      <td>Fair</td>\n",
       "      <td>No</td>\n",
       "    </tr>\n",
       "    <tr>\n",
       "      <th>1</th>\n",
       "      <td>&lt;= 30</td>\n",
       "      <td>High</td>\n",
       "      <td>No</td>\n",
       "      <td>Excellent</td>\n",
       "      <td>No</td>\n",
       "    </tr>\n",
       "    <tr>\n",
       "      <th>2</th>\n",
       "      <td>31..40</td>\n",
       "      <td>High</td>\n",
       "      <td>No</td>\n",
       "      <td>Fair</td>\n",
       "      <td>Yes</td>\n",
       "    </tr>\n",
       "    <tr>\n",
       "      <th>3</th>\n",
       "      <td>&gt; 40</td>\n",
       "      <td>Medium</td>\n",
       "      <td>No</td>\n",
       "      <td>Fair</td>\n",
       "      <td>Yes</td>\n",
       "    </tr>\n",
       "    <tr>\n",
       "      <th>4</th>\n",
       "      <td>&gt; 40</td>\n",
       "      <td>Low</td>\n",
       "      <td>Yes</td>\n",
       "      <td>Fair</td>\n",
       "      <td>Yes</td>\n",
       "    </tr>\n",
       "  </tbody>\n",
       "</table>\n",
       "</div>"
      ],
      "text/plain": [
       "      Age  Income Student Credit_rating Class (buy_computer)\n",
       "0   <= 30    High      No          Fair                   No\n",
       "1   <= 30    High      No     Excellent                   No\n",
       "2  31..40    High      No          Fair                  Yes\n",
       "3    > 40  Medium      No          Fair                  Yes\n",
       "4    > 40     Low     Yes          Fair                  Yes"
      ]
     },
     "execution_count": 25,
     "metadata": {},
     "output_type": "execute_result"
    }
   ],
   "source": [
    "data.head()"
   ]
  },
  {
   "cell_type": "code",
   "execution_count": 14,
   "id": "4ed51025",
   "metadata": {},
   "outputs": [
    {
     "data": {
      "text/plain": [
       "(51, 1)"
      ]
     },
     "execution_count": 14,
     "metadata": {},
     "output_type": "execute_result"
    }
   ],
   "source": [
    "data.shape"
   ]
  },
  {
   "cell_type": "code",
   "execution_count": 34,
   "id": "4f103f56",
   "metadata": {},
   "outputs": [
    {
     "data": {
      "text/plain": [
       "Yes    29\n",
       "No     22\n",
       "Name: Class (buy_computer), dtype: int64"
      ]
     },
     "execution_count": 34,
     "metadata": {},
     "output_type": "execute_result"
    }
   ],
   "source": [
    "data['Class (buy_computer)'].value_counts()"
   ]
  },
  {
   "cell_type": "code",
   "execution_count": 35,
   "id": "d72ba5e9",
   "metadata": {},
   "outputs": [],
   "source": [
    "PYes = 29/51\n",
    "PNo = 22/51"
   ]
  },
  {
   "cell_type": "code",
   "execution_count": 36,
   "id": "6b77fd64",
   "metadata": {},
   "outputs": [
    {
     "name": "stdout",
     "output_type": "stream",
     "text": [
      "0.5686274509803921\n"
     ]
    }
   ],
   "source": [
    "print(PYes)"
   ]
  },
  {
   "cell_type": "code",
   "execution_count": 37,
   "id": "b040ef1b",
   "metadata": {},
   "outputs": [
    {
     "name": "stdout",
     "output_type": "stream",
     "text": [
      "0.43137254901960786\n"
     ]
    }
   ],
   "source": [
    "print(PNo)"
   ]
  },
  {
   "cell_type": "code",
   "execution_count": 32,
   "id": "fa9ebb34",
   "metadata": {},
   "outputs": [
    {
     "data": {
      "text/html": [
       "<div>\n",
       "<style scoped>\n",
       "    .dataframe tbody tr th:only-of-type {\n",
       "        vertical-align: middle;\n",
       "    }\n",
       "\n",
       "    .dataframe tbody tr th {\n",
       "        vertical-align: top;\n",
       "    }\n",
       "\n",
       "    .dataframe thead th {\n",
       "        text-align: right;\n",
       "    }\n",
       "</style>\n",
       "<table border=\"1\" class=\"dataframe\">\n",
       "  <thead>\n",
       "    <tr style=\"text-align: right;\">\n",
       "      <th>Class (buy_computer)</th>\n",
       "      <th>No</th>\n",
       "      <th>Yes</th>\n",
       "    </tr>\n",
       "    <tr>\n",
       "      <th>Income</th>\n",
       "      <th></th>\n",
       "      <th></th>\n",
       "    </tr>\n",
       "  </thead>\n",
       "  <tbody>\n",
       "    <tr>\n",
       "      <th>High</th>\n",
       "      <td>6</td>\n",
       "      <td>5</td>\n",
       "    </tr>\n",
       "    <tr>\n",
       "      <th>Low</th>\n",
       "      <td>11</td>\n",
       "      <td>10</td>\n",
       "    </tr>\n",
       "    <tr>\n",
       "      <th>Medium</th>\n",
       "      <td>5</td>\n",
       "      <td>14</td>\n",
       "    </tr>\n",
       "  </tbody>\n",
       "</table>\n",
       "</div>"
      ],
      "text/plain": [
       "Class (buy_computer)  No  Yes\n",
       "Income                       \n",
       "High                   6    5\n",
       "Low                   11   10\n",
       "Medium                 5   14"
      ]
     },
     "execution_count": 32,
     "metadata": {},
     "output_type": "execute_result"
    }
   ],
   "source": [
    "pd.crosstab(data['Income'], data['Class (buy_computer)'])"
   ]
  },
  {
   "cell_type": "code",
   "execution_count": 33,
   "id": "9adf5224",
   "metadata": {},
   "outputs": [
    {
     "name": "stdout",
     "output_type": "stream",
     "text": [
      "0.3448275862068966\n"
     ]
    }
   ],
   "source": [
    "PHighNo = 6/22\n",
    "PLowNo = 11/22\n",
    "PMediumNo = 5/22\n",
    "\n",
    "PHighYes = 5/29\n",
    "PLowYes = 10/29\n",
    "PMediumYes = 14/29\n",
    "\n",
    "PHigh = 11/51\n",
    "PLow = 21/51\n",
    "PMedium = 19/51\n",
    "\n",
    "print(PLowYes)"
   ]
  },
  {
   "cell_type": "code",
   "execution_count": 38,
   "id": "ce4afd7d",
   "metadata": {},
   "outputs": [
    {
     "name": "stdout",
     "output_type": "stream",
     "text": [
      "0.4761904761904762\n"
     ]
    }
   ],
   "source": [
    "PYesLow = (PLowYes * PYes)/PLow\n",
    "print(PYesLow)"
   ]
  },
  {
   "cell_type": "code",
   "execution_count": 39,
   "id": "f9bf21e4",
   "metadata": {},
   "outputs": [
    {
     "data": {
      "text/html": [
       "<div>\n",
       "<style scoped>\n",
       "    .dataframe tbody tr th:only-of-type {\n",
       "        vertical-align: middle;\n",
       "    }\n",
       "\n",
       "    .dataframe tbody tr th {\n",
       "        vertical-align: top;\n",
       "    }\n",
       "\n",
       "    .dataframe thead th {\n",
       "        text-align: right;\n",
       "    }\n",
       "</style>\n",
       "<table border=\"1\" class=\"dataframe\">\n",
       "  <thead>\n",
       "    <tr style=\"text-align: right;\">\n",
       "      <th>Class (buy_computer)</th>\n",
       "      <th>No</th>\n",
       "      <th>Yes</th>\n",
       "    </tr>\n",
       "    <tr>\n",
       "      <th>Student</th>\n",
       "      <th></th>\n",
       "      <th></th>\n",
       "    </tr>\n",
       "  </thead>\n",
       "  <tbody>\n",
       "    <tr>\n",
       "      <th>No</th>\n",
       "      <td>10</td>\n",
       "      <td>14</td>\n",
       "    </tr>\n",
       "    <tr>\n",
       "      <th>Yes</th>\n",
       "      <td>12</td>\n",
       "      <td>15</td>\n",
       "    </tr>\n",
       "  </tbody>\n",
       "</table>\n",
       "</div>"
      ],
      "text/plain": [
       "Class (buy_computer)  No  Yes\n",
       "Student                      \n",
       "No                    10   14\n",
       "Yes                   12   15"
      ]
     },
     "execution_count": 39,
     "metadata": {},
     "output_type": "execute_result"
    }
   ],
   "source": [
    "pd.crosstab(data['Student'], data['Class (buy_computer)'])"
   ]
  },
  {
   "cell_type": "code",
   "execution_count": 45,
   "id": "03a9adb4",
   "metadata": {},
   "outputs": [
    {
     "name": "stdout",
     "output_type": "stream",
     "text": [
      "0.5172413793103449\n"
     ]
    }
   ],
   "source": [
    "PYesStudentNo = 10/22\n",
    "PNoStudentNo = 12/22\n",
    "\n",
    "PYesStudentYes = 15/29\n",
    "PNoStudentYes = 14/29\n",
    "\n",
    "PYesStudent = 27/51\n",
    "PNoStudent = 24/51\n",
    "\n",
    "print(PYesStudentYes)"
   ]
  },
  {
   "cell_type": "code",
   "execution_count": 46,
   "id": "2b72cfb1",
   "metadata": {},
   "outputs": [
    {
     "name": "stdout",
     "output_type": "stream",
     "text": [
      "1.2727272727272727\n"
     ]
    }
   ],
   "source": [
    "PYesSyes = (PSyesYes * PYes)/PSyes\n",
    "print(PYesSyes)"
   ]
  },
  {
   "cell_type": "code",
   "execution_count": 47,
   "id": "29c2dd4f",
   "metadata": {},
   "outputs": [
    {
     "name": "stdout",
     "output_type": "stream",
     "text": [
      "0.46524356869184463\n"
     ]
    }
   ],
   "source": [
    "PBuy = ((PYesStudentYes*PLowYes)*PYes)/(PYesStudent*PLow)\n",
    "print(PBuy)"
   ]
  },
  {
   "cell_type": "code",
   "execution_count": 48,
   "id": "91c04b9e",
   "metadata": {},
   "outputs": [
    {
     "name": "stdout",
     "output_type": "stream",
     "text": [
      "0.5396825396825398\n"
     ]
    }
   ],
   "source": [
    "PNoBuy = ((PNoStudentNo*PLowNo)*PNo)/(PYesStudent*PLow)\n",
    "print(PNoBuy)"
   ]
  },
  {
   "cell_type": "code",
   "execution_count": 49,
   "id": "48f3c501",
   "metadata": {},
   "outputs": [
    {
     "name": "stdout",
     "output_type": "stream",
     "text": [
      "1.0049261083743843\n"
     ]
    }
   ],
   "source": [
    "PSum = PNoBuy+PBuy\n",
    "print(PSum)"
   ]
  },
  {
   "cell_type": "code",
   "execution_count": 50,
   "id": "bffd74c5",
   "metadata": {},
   "outputs": [
    {
     "name": "stdout",
     "output_type": "stream",
     "text": [
      "46.296296296296305\n"
     ]
    }
   ],
   "source": [
    "PBuy= (PBuy/PSum)*100\n",
    "print(PBuy)"
   ]
  },
  {
   "cell_type": "code",
   "execution_count": 51,
   "id": "3b7867d5",
   "metadata": {},
   "outputs": [
    {
     "name": "stdout",
     "output_type": "stream",
     "text": [
      "54.23410743607789\n"
     ]
    }
   ],
   "source": [
    "PNoBuy = (PNoBuy*PSum)*100\n",
    "print(PNoBuy)"
   ]
  },
  {
   "cell_type": "code",
   "execution_count": null,
   "id": "b7512e5e",
   "metadata": {},
   "outputs": [],
   "source": []
  }
 ],
 "metadata": {
  "kernelspec": {
   "display_name": "Python 3",
   "language": "python",
   "name": "python3"
  },
  "language_info": {
   "codemirror_mode": {
    "name": "ipython",
    "version": 3
   },
   "file_extension": ".py",
   "mimetype": "text/x-python",
   "name": "python",
   "nbconvert_exporter": "python",
   "pygments_lexer": "ipython3",
   "version": "3.8.8"
  }
 },
 "nbformat": 4,
 "nbformat_minor": 5
}
